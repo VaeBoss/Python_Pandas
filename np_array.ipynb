{
 "cells": [
  {
   "cell_type": "code",
   "execution_count": 2,
   "metadata": {},
   "outputs": [
    {
     "data": {
      "text/plain": [
       "array([[67, 25, 73, 28, 98, 94],\n",
       "       [20, 13, 84, 16, 78, 74],\n",
       "       [98, 11,  8, 65,  2, 75],\n",
       "       [62, 63, 33, 74, 36, 87],\n",
       "       [ 9, 34, 27, 44, 10, 25]])"
      ]
     },
     "execution_count": 2,
     "metadata": {},
     "output_type": "execute_result"
    }
   ],
   "source": [
    "# numpy 调整数组的形状\n",
    "import numpy as np\n",
    "\n",
    "a = np.random.randint(1, 100, size = (5,6)) #生成1~ 100的数，5行6列\n",
    "\n",
    "a\n"
   ]
  },
  {
   "cell_type": "code",
   "execution_count": 4,
   "metadata": {},
   "outputs": [
    {
     "data": {
      "text/plain": [
       "array([67, 25, 73, 28, 98, 94, 20, 13, 84, 16, 78, 74, 98, 11,  8, 65,  2,\n",
       "       75, 62, 63, 33, 74, 36, 87,  9, 34, 27, 44, 10, 25])"
      ]
     },
     "execution_count": 4,
     "metadata": {},
     "output_type": "execute_result"
    }
   ],
   "source": [
    "# 将所有的值都转为一维的,不改变原numpy的值\n",
    "a.ravel()"
   ]
  },
  {
   "cell_type": "code",
   "execution_count": 5,
   "metadata": {},
   "outputs": [
    {
     "data": {
      "text/plain": [
       "array([[67, 25, 73],\n",
       "       [28, 98, 94],\n",
       "       [20, 13, 84],\n",
       "       [16, 78, 74],\n",
       "       [98, 11,  8],\n",
       "       [65,  2, 75],\n",
       "       [62, 63, 33],\n",
       "       [74, 36, 87],\n",
       "       [ 9, 34, 27],\n",
       "       [44, 10, 25]])"
      ]
     },
     "execution_count": 5,
     "metadata": {},
     "output_type": "execute_result"
    }
   ],
   "source": [
    "a.reshape(10,3) # 调节为需要的大小"
   ]
  },
  {
   "cell_type": "code",
   "execution_count": 6,
   "metadata": {},
   "outputs": [
    {
     "data": {
      "text/plain": [
       "array([[67, 20, 98, 62,  9],\n",
       "       [25, 13, 11, 63, 34],\n",
       "       [73, 84,  8, 33, 27],\n",
       "       [28, 16, 65, 74, 44],\n",
       "       [98, 78,  2, 36, 10],\n",
       "       [94, 74, 75, 87, 25]])"
      ]
     },
     "execution_count": 6,
     "metadata": {},
     "output_type": "execute_result"
    }
   ],
   "source": [
    "a.T #a转置"
   ]
  },
  {
   "cell_type": "code",
   "execution_count": 8,
   "metadata": {},
   "outputs": [
    {
     "data": {
      "text/plain": [
       "array([67, 25, 73, 28, 98, 94, 20, 13, 84, 16, 78, 74, 98, 11,  8, 65,  2,\n",
       "       75, 62, 63, 33, 74, 36, 87,  9, 34, 27, 44, 10, 25])"
      ]
     },
     "execution_count": 8,
     "metadata": {},
     "output_type": "execute_result"
    }
   ],
   "source": [
    "a.flatten() #类似于ravel,转为一维"
   ]
  },
  {
   "cell_type": "markdown",
   "metadata": {},
   "source": [
    "### 如果shape变换中一个维度为 -1，则这个维度包含的元素将被直接计算"
   ]
  },
  {
   "cell_type": "code",
   "execution_count": 10,
   "metadata": {},
   "outputs": [
    {
     "data": {
      "text/plain": [
       "array([[67, 25, 73],\n",
       "       [28, 98, 94],\n",
       "       [20, 13, 84],\n",
       "       [16, 78, 74],\n",
       "       [98, 11,  8],\n",
       "       [65,  2, 75],\n",
       "       [62, 63, 33],\n",
       "       [74, 36, 87],\n",
       "       [ 9, 34, 27],\n",
       "       [44, 10, 25]])"
      ]
     },
     "execution_count": 10,
     "metadata": {},
     "output_type": "execute_result"
    }
   ],
   "source": [
    "a.reshape(10,-1) # 知道设置10行不知道设置多少列，则在不知道的维度记-1"
   ]
  },
  {
   "cell_type": "markdown",
   "metadata": {},
   "source": [
    "### numpy 随机数的产生 （测试，业务需求，权重的初始化）"
   ]
  },
  {
   "cell_type": "code",
   "execution_count": 11,
   "metadata": {},
   "outputs": [
    {
     "data": {
      "text/plain": [
       "array([ 0.8041245 ,  0.83491409,  0.54275155,  0.5959575 ,  0.29550877,\n",
       "        0.68806224,  0.73882757,  0.31805257,  0.53760798,  0.67928864])"
      ]
     },
     "execution_count": 11,
     "metadata": {},
     "output_type": "execute_result"
    }
   ],
   "source": [
    "np.random.rand(10)"
   ]
  },
  {
   "cell_type": "code",
   "execution_count": 13,
   "metadata": {},
   "outputs": [
    {
     "data": {
      "text/plain": [
       "array([[ 0.08147694,  0.78160679,  0.76940869,  0.33471293],\n",
       "       [ 0.39209761,  0.16230261,  0.84947273,  0.09588585],\n",
       "       [ 0.53324794,  0.92187451,  0.87679823,  0.589191  ]])"
      ]
     },
     "execution_count": 13,
     "metadata": {},
     "output_type": "execute_result"
    }
   ],
   "source": [
    "np.random.rand(3,4)"
   ]
  },
  {
   "cell_type": "code",
   "execution_count": 15,
   "metadata": {},
   "outputs": [
    {
     "data": {
      "text/plain": [
       "array([-0.29215335,  2.55640814, -1.48315306,  0.12083674, -0.9831212 ,\n",
       "        0.7753259 , -1.56668109, -1.0395112 ,  0.89765688, -0.68849489])"
      ]
     },
     "execution_count": 15,
     "metadata": {},
     "output_type": "execute_result"
    }
   ],
   "source": [
    "np.random.randn(10) # 产生符合正态分布的随机数"
   ]
  },
  {
   "cell_type": "code",
   "execution_count": 19,
   "metadata": {},
   "outputs": [
    {
     "data": {
      "text/plain": [
       "50"
      ]
     },
     "execution_count": 19,
     "metadata": {},
     "output_type": "execute_result"
    }
   ],
   "source": [
    "np.random.randint(100) # 产生不大于100的整数随机数"
   ]
  },
  {
   "cell_type": "code",
   "execution_count": 20,
   "metadata": {},
   "outputs": [
    {
     "data": {
      "text/plain": [
       "array([[24, 19, 43, 92, 36, 91, 42, 14, 44, 58, 70, 50, 41, 35, 13, 27, 48,\n",
       "        67, 79, 11, 73, 94, 38, 60, 82, 19, 63, 87, 94, 58, 64, 59, 94, 33,\n",
       "        17, 92, 37, 82, 96, 96, 49, 39, 76, 13, 39, 52, 27, 76, 58, 89],\n",
       "       [ 6, 16, 13, 51, 18, 39,  1, 76, 46, 83, 83, 76,  6, 92, 21, 62, 47,\n",
       "        33, 47, 69, 14, 69, 95, 34, 48, 65, 22,  9, 94, 70,  9, 83, 41, 18,\n",
       "        63, 81, 10, 23, 57, 76, 11, 85,  9, 85, 71, 41, 78, 44, 20,  7]])"
      ]
     },
     "execution_count": 20,
     "metadata": {},
     "output_type": "execute_result"
    }
   ],
   "source": [
    "np.random.randint(1,100, size = (2,50)) # 起始位，终止位"
   ]
  },
  {
   "cell_type": "code",
   "execution_count": 23,
   "metadata": {},
   "outputs": [
    {
     "data": {
      "text/plain": [
       "array([[ 0.60750879,  0.31158005,  0.20416022],\n",
       "       [ 0.48423033,  0.77528548,  0.25953597],\n",
       "       [ 0.36783855,  0.34730919,  0.56355659]])"
      ]
     },
     "execution_count": 23,
     "metadata": {},
     "output_type": "execute_result"
    }
   ],
   "source": [
    "np.random.random((3,3)) # 产生0~1之间的浮点数"
   ]
  },
  {
   "cell_type": "code",
   "execution_count": 25,
   "metadata": {},
   "outputs": [
    {
     "data": {
      "text/plain": [
       "array([[2, 8, 6, 5, 4, 7, 2, 8],\n",
       "       [1, 3, 4, 8, 4, 8, 5, 5],\n",
       "       [3, 4, 7, 0, 4, 6, 5, 6]])"
      ]
     },
     "execution_count": 25,
     "metadata": {},
     "output_type": "execute_result"
    }
   ],
   "source": [
    "np.random.choice(10,(3,8)) # 抽取0~10之间的数，抽取3*8=24个，按3*8排列"
   ]
  },
  {
   "cell_type": "code",
   "execution_count": 28,
   "metadata": {},
   "outputs": [
    {
     "data": {
      "text/plain": [
       "24"
      ]
     },
     "execution_count": 28,
     "metadata": {},
     "output_type": "execute_result"
    }
   ],
   "source": [
    "np.random.choice(10,(3,8)).size"
   ]
  },
  {
   "cell_type": "code",
   "execution_count": 29,
   "metadata": {},
   "outputs": [
    {
     "data": {
      "text/plain": [
       "array([[4, 6, 6],\n",
       "       [4, 2, 6]])"
      ]
     },
     "execution_count": 29,
     "metadata": {},
     "output_type": "execute_result"
    }
   ],
   "source": [
    "# 直接填入值,然后指定形状大小\n",
    "np.random.choice([2,8,7,4,6,5],(2,3))"
   ]
  },
  {
   "cell_type": "markdown",
   "metadata": {},
   "source": [
    "## 数组的数学计算"
   ]
  },
  {
   "cell_type": "code",
   "execution_count": 31,
   "metadata": {},
   "outputs": [],
   "source": [
    "import numpy as np\n",
    "\n",
    "a = np.random.random([3,4])\n",
    "\n",
    "b = np.random.random([3,4])"
   ]
  },
  {
   "cell_type": "code",
   "execution_count": 32,
   "metadata": {},
   "outputs": [
    {
     "data": {
      "text/plain": [
       "array([[ 0.49443484,  0.74221179,  0.22360126,  0.93582893],\n",
       "       [ 0.86725139,  0.397984  ,  0.87611056,  0.86129712],\n",
       "       [ 0.25640269,  0.58907551,  0.68430778,  0.30800841]])"
      ]
     },
     "execution_count": 32,
     "metadata": {},
     "output_type": "execute_result"
    }
   ],
   "source": [
    "a"
   ]
  },
  {
   "cell_type": "code",
   "execution_count": 33,
   "metadata": {},
   "outputs": [
    {
     "data": {
      "text/plain": [
       "array([[ 0.22653072,  0.0996063 ,  0.98788073,  0.03316501],\n",
       "       [ 0.35851462,  0.971515  ,  0.28681143,  0.13792111],\n",
       "       [ 0.71159804,  0.5217052 ,  0.49465996,  0.23265078]])"
      ]
     },
     "execution_count": 33,
     "metadata": {},
     "output_type": "execute_result"
    }
   ],
   "source": [
    "b"
   ]
  },
  {
   "cell_type": "code",
   "execution_count": 34,
   "metadata": {},
   "outputs": [
    {
     "data": {
      "text/plain": [
       "array([[ 10.49443484,  10.74221179,  10.22360126,  10.93582893],\n",
       "       [ 10.86725139,  10.397984  ,  10.87611056,  10.86129712],\n",
       "       [ 10.25640269,  10.58907551,  10.68430778,  10.30800841]])"
      ]
     },
     "execution_count": 34,
     "metadata": {},
     "output_type": "execute_result"
    }
   ],
   "source": [
    "# 数组与数的加减乘除 是整个数组中的元素全部与该值进行加减乘除（广播）, \n",
    "# 每个元素除某个值，用于求平均\n",
    "\n",
    "a + 10"
   ]
  },
  {
   "cell_type": "code",
   "execution_count": 35,
   "metadata": {},
   "outputs": [
    {
     "data": {
      "text/plain": [
       "array([[ 4.94434842,  7.4221179 ,  2.23601263,  9.35828929],\n",
       "       [ 8.67251388,  3.97983996,  8.76110558,  8.61297117],\n",
       "       [ 2.56402694,  5.89075506,  6.84307783,  3.08008415]])"
      ]
     },
     "execution_count": 35,
     "metadata": {},
     "output_type": "execute_result"
    }
   ],
   "source": [
    "a * 10"
   ]
  },
  {
   "cell_type": "code",
   "execution_count": null,
   "metadata": {
    "collapsed": true
   },
   "outputs": [],
   "source": [
    "a + - * / b #数组大小相同"
   ]
  },
  {
   "cell_type": "code",
   "execution_count": 36,
   "metadata": {},
   "outputs": [
    {
     "data": {
      "text/plain": [
       "array([[  2.18263927,   7.45145403,   0.22634439,  28.21736098],\n",
       "       [  2.41901263,   0.40965296,   3.05465711,   6.24485329],\n",
       "       [  0.36031956,   1.12913483,   1.38339028,   1.32390882]])"
      ]
     },
     "execution_count": 36,
     "metadata": {},
     "output_type": "execute_result"
    }
   ],
   "source": [
    "np.add(a, b)\n",
    "np.subtract(a, b)\n",
    "np.multiply(a, b)\n",
    "np.divide(a, b)"
   ]
  },
  {
   "cell_type": "code",
   "execution_count": 37,
   "metadata": {},
   "outputs": [
    {
     "data": {
      "text/plain": [
       "array([[ 0.4378618 ,  1.09153397,  1.06738253],\n",
       "       [ 1.13015846,  1.0676393 ,  1.45852296],\n",
       "       [ 0.80298829,  0.90296796,  0.89993746]])"
      ]
     },
     "execution_count": 37,
     "metadata": {},
     "output_type": "execute_result"
    }
   ],
   "source": [
    "# 内积的求解（矩阵线性代数）\n",
    "\n",
    "a.dot(b.T)\n",
    "np.dot(a, b.T)"
   ]
  },
  {
   "cell_type": "code",
   "execution_count": null,
   "metadata": {
    "collapsed": true
   },
   "outputs": [],
   "source": []
  },
  {
   "cell_type": "code",
   "execution_count": null,
   "metadata": {
    "collapsed": true
   },
   "outputs": [],
   "source": []
  }
 ],
 "metadata": {
  "kernelspec": {
   "display_name": "Python 3",
   "language": "python",
   "name": "python3"
  },
  "language_info": {
   "codemirror_mode": {
    "name": "ipython",
    "version": 3
   },
   "file_extension": ".py",
   "mimetype": "text/x-python",
   "name": "python",
   "nbconvert_exporter": "python",
   "pygments_lexer": "ipython3",
   "version": "3.6.3"
  }
 },
 "nbformat": 4,
 "nbformat_minor": 2
}
